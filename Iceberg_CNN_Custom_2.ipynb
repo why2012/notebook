{
 "cells": [
  {
   "cell_type": "code",
   "execution_count": 1,
   "metadata": {
    "scrolled": true
   },
   "outputs": [
    {
     "name": "stderr",
     "output_type": "stream",
     "text": [
      "Using TensorFlow backend.\n"
     ]
    }
   ],
   "source": [
    "import pandas as pd\n",
    "import numpy as np\n",
    "import cv2\n",
    "import importlib\n",
    "SEED = 1234\n",
    "np.random.seed(SEED) \n",
    "\n",
    "from keras.models import Sequential\n",
    "from keras.layers import Dense, Dropout, Flatten, Activation, GlobalAveragePooling2D\n",
    "from keras.layers import Conv2D, MaxPooling2D\n",
    "from keras.callbacks import EarlyStopping, ModelCheckpoint, ReduceLROnPlateau, TensorBoard\n",
    "from keras.preprocessing.image import ImageDataGenerator\n",
    "from keras.layers.normalization import BatchNormalization\n",
    "from keras.optimizers import Adam\n",
    "from keras.utils import plot_model\n",
    "from keras.applications.vgg16 import VGG16\n",
    "import mylibs.ResNet as ResNet\n",
    "import mylibs.SENet as SENet\n",
    "importlib.reload(ResNet)\n",
    "importlib.reload(SENet)\n",
    "from keras.models import Model\n",
    "\n",
    "from sklearn.model_selection import StratifiedKFold"
   ]
  },
  {
   "cell_type": "code",
   "execution_count": null,
   "metadata": {
    "collapsed": true
   },
   "outputs": [],
   "source": [
    "# import tensorflow as tf\n",
    "# from keras.backend.tensorflow_backend import set_session  \n",
    "# config = tf.ConfigProto()  \n",
    "# config.gpu_options.allow_growth = True\n",
    "# set_session(tf.Session(config=config)) "
   ]
  },
  {
   "cell_type": "code",
   "execution_count": null,
   "metadata": {},
   "outputs": [],
   "source": [
    "%cd E:\\kaggle\\iceberg"
   ]
  },
  {
   "cell_type": "code",
   "execution_count": null,
   "metadata": {
    "collapsed": true
   },
   "outputs": [],
   "source": [
    "def get_scaled_imgs(df):\n",
    "    imgs = []\n",
    "    \n",
    "    for i, row in df.iterrows():\n",
    "        #make 75x75 image\n",
    "        band_1 = np.array(row['band_1']).reshape(75, 75)\n",
    "        band_2 = np.array(row['band_2']).reshape(75, 75)\n",
    "        band_3 = band_1 + band_2 # plus since log(x*y) = log(x) + log(y)\n",
    "        \n",
    "        # Rescale\n",
    "        a = (band_1 - band_1.mean()) / (band_1.max() - band_1.min())\n",
    "        b = (band_2 - band_2.mean()) / (band_2.max() - band_2.min())\n",
    "        c = (band_3 - band_3.mean()) / (band_3.max() - band_3.min())\n",
    "\n",
    "        imgs.append(np.dstack((a, b, c)))\n",
    "\n",
    "    return np.array(imgs)\n",
    "\n",
    "def get_more_images(imgs):\n",
    "    more_images = []\n",
    "    vert_flip_imgs = []\n",
    "    hori_flip_imgs = []\n",
    "    vh_flip_imgs = []\n",
    "      \n",
    "    for i in range(0,imgs.shape[0]):\n",
    "        vert_flip_imgs.append(cv2.flip(imgs[i], 1))\n",
    "        hori_flip_imgs.append(cv2.flip(imgs[i], 0))\n",
    "        vh_flip_imgs.append(cv2.flip(imgs[i], -1))\n",
    "      \n",
    "    v = np.array(vert_flip_imgs)\n",
    "    h = np.array(hori_flip_imgs)\n",
    "    vh = np.array(vh_flip_imgs)\n",
    "       \n",
    "    more_images = np.concatenate((imgs,v,h, vh))\n",
    "    \n",
    "    return more_images"
   ]
  },
  {
   "cell_type": "code",
   "execution_count": null,
   "metadata": {
    "collapsed": true
   },
   "outputs": [],
   "source": [
    "use_custom_augmentation = True\n",
    "if use_custom_augmentation:\n",
    "    df_train = pd.read_json('E:/kaggle/iceberg/train.json/data/processed/train.json')\n",
    "    df_test = pd.read_json('E:/kaggle/iceberg/test.json/data/processed/test.json')\n",
    "    Xtrain = get_scaled_imgs(df_train)\n",
    "    Xtest = get_scaled_imgs(df_test)\n",
    "    Ytrain = np.array(df_train['is_iceberg'])\n",
    "    \n",
    "    df_train[\"inc_angle\"] = df_train[\"inc_angle\"].replace('na',0)\n",
    "    df_test[\"inc_angle\"] = df_test[\"inc_angle\"].replace('na',0)\n",
    "    idx_tr = np.where(df_train[\"inc_angle\"]>0)\n",
    "    Xtrain = Xtrain[idx_tr[0]]\n",
    "    Ytrain = Ytrain[idx_tr[0]]\n",
    "    \n",
    "    Xtrain = get_more_images(Xtrain) \n",
    "    Ytrain = np.concatenate((Ytrain,Ytrain,Ytrain, Ytrain))"
   ]
  },
  {
   "cell_type": "code",
   "execution_count": null,
   "metadata": {
    "collapsed": true
   },
   "outputs": [],
   "source": [
    "# VGG16, ResNet50, SENet50\n",
    "baseModelName = \"SENet50\"\n",
    "def getModel(baseModelName):\n",
    "    if baseModelName == \"VGG16\":\n",
    "        baseModel = VGG16(weights='imagenet', include_top=False, input_shape=Xtrain.shape[1:], pooling = \"avg\")\n",
    "        cnnOutput = baseModel.output\n",
    "    elif baseModelName == \"ResNet50\":\n",
    "        baseModel = ResNet.ResNet50(weights='imagenet', include_top=False, input_shape=Xtrain.shape[1:], pooling = \"avg\")\n",
    "        cnnOutput = baseModel.output\n",
    "    elif baseModelName == \"SENet50\":\n",
    "        baseModel = SENet.SENet50(weights='imagenet', include_top=False, input_shape=Xtrain.shape[1:], pooling = \"avg\",\n",
    "                                  kernel_regularizer = \"l2\",\n",
    "                                  bias_regularizer = \"l2\",\n",
    "                                  activity_regularizer = None,\n",
    "                                  regularizer_value = 1e-4)\n",
    "        cnnOutput = baseModel.output\n",
    "\n",
    "    if baseModelName == \"VGG16\":\n",
    "        fcOutput = Dropout(0.6)(cnnOutput)\n",
    "        predictions = Dense(1, activation=\"sigmoid\")(fcOutput)\n",
    "    elif baseModelName == \"ResNet50\":\n",
    "        predictions = Dense(1, activation=\"sigmoid\")(cnnOutput)\n",
    "    elif baseModelName == \"SENet50\":\n",
    "        predictions = Dense(1, activation=\"sigmoid\")(cnnOutput)\n",
    "    \n",
    "    model = Model(inputs=baseModel.input, outputs=predictions)\n",
    "    \n",
    "    optimizer = Adam(lr=1e-4)\n",
    "    model.compile(loss='binary_crossentropy', optimizer=optimizer, metrics=['accuracy'])\n",
    "    \n",
    "    return model"
   ]
  },
  {
   "cell_type": "code",
   "execution_count": null,
   "metadata": {},
   "outputs": [],
   "source": [
    "model = getModel(baseModelName)\n",
    "model.summary()\n",
    "plot_model(model, to_file=\"senet50-reg.png\")"
   ]
  },
  {
   "cell_type": "code",
   "execution_count": null,
   "metadata": {
    "collapsed": true
   },
   "outputs": [],
   "source": [
    "# for layer in model.layers:\n",
    "#     print(layer.name, layer.trainable)"
   ]
  },
  {
   "cell_type": "code",
   "execution_count": null,
   "metadata": {
    "collapsed": true
   },
   "outputs": [],
   "source": [
    "batch_size = 64\n",
    "earlyStopping = EarlyStopping(monitor='val_loss', patience=20, verbose=0, mode='min')\n",
    "reduce_lr_loss = ReduceLROnPlateau(monitor='val_loss', factor=0.1, patience=7, verbose=1, epsilon=1e-4, mode='min')"
   ]
  },
  {
   "cell_type": "code",
   "execution_count": null,
   "metadata": {
    "scrolled": true
   },
   "outputs": [],
   "source": [
    "K=3\n",
    "Kfolds = list(StratifiedKFold(n_splits=K, shuffle=True, random_state=SEED).split(Xtrain, Ytrain))\n",
    "y_test_pred_log = 0\n",
    "for j, (train_idx, test_idx) in enumerate(Kfolds):\n",
    "    print('\\n===================FOLD=',j)\n",
    "    Xtrain_cv = Xtrain[train_idx]\n",
    "    Ytrain_cv = Ytrain[train_idx]\n",
    "    Xtrain_val = Xtrain[test_idx]\n",
    "    Ytrain_val = Ytrain[test_idx]\n",
    "    \n",
    "    model_file = 'model_%s.hdf5' % j\n",
    "    \n",
    "    mcp_save = ModelCheckpoint(model_file, save_best_only=True, monitor='val_loss', mode='min')\n",
    "    model = getModel(baseModelName)\n",
    "    \n",
    "    model.fit(Xtrain_cv, Ytrain_cv, batch_size=batch_size, epochs=100, verbose=1, callbacks=[earlyStopping, mcp_save, reduce_lr_loss, TensorBoard(log_dir='./logs')], validation_data=(Xtrain_val, Ytrain_val))\n",
    "\n",
    "    model.load_weights(filepath = model_file)    \n",
    "    \n",
    "    score = model.evaluate(Xtrain, Ytrain, verbose=1)\n",
    "    print('Train score:', score[0])\n",
    "    print('Train accuracy:', score[1])\n",
    "    y_test_pred_log += model.predict(Xtest).reshape(Xtest.shape[0])\n",
    "    \n",
    "y_test_pred_log /= K"
   ]
  },
  {
   "cell_type": "code",
   "execution_count": null,
   "metadata": {},
   "outputs": [],
   "source": [
    "submission = pd.DataFrame({'id': df_test[\"id\"], 'is_iceberg': y_test_pred_log})\n",
    "print(submission.head(10))\n",
    "print(submission.count(), Xtest.shape[0])\n",
    "\n",
    "submission.to_csv('submission-cnn-custom-%s.csv' % baseModelName, index=False)"
   ]
  },
  {
   "cell_type": "code",
   "execution_count": null,
   "metadata": {
    "collapsed": true
   },
   "outputs": [],
   "source": []
  }
 ],
 "metadata": {
  "kernelspec": {
   "display_name": "Python 3",
   "language": "python",
   "name": "python3"
  },
  "language_info": {
   "codemirror_mode": {
    "name": "ipython",
    "version": 3
   },
   "file_extension": ".py",
   "mimetype": "text/x-python",
   "name": "python",
   "nbconvert_exporter": "python",
   "pygments_lexer": "ipython3",
   "version": "3.6.3"
  }
 },
 "nbformat": 4,
 "nbformat_minor": 2
}
