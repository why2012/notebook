{
 "cells": [
  {
   "cell_type": "code",
   "execution_count": 2,
   "metadata": {},
   "outputs": [
    {
     "name": "stdout",
     "output_type": "stream",
     "text": [
      "e:\\kaggle\\wsdm\n"
     ]
    }
   ],
   "source": [
    "%cd e:\\kaggle\\wsdm\n",
    "import warnings\n",
    "warnings.filterwarnings(\"ignore\")\n",
    "import pandas as pd\n",
    "import numpy as np\n",
    "from multiprocessing import Pool, cpu_count\n",
    "from importlib import reload\n",
    "import gc\n",
    "import sys"
   ]
  },
  {
   "cell_type": "code",
   "execution_count": 7,
   "metadata": {},
   "outputs": [
    {
     "name": "stdout",
     "output_type": "stream",
     "text": [
      "d:\\jupyter-workdir\\notebook\n",
      "e:\\kaggle\\wsdm\n"
     ]
    }
   ],
   "source": [
    "%cd d:\\jupyter-workdir\\notebook\n",
    "from mylibs.WSDN_FUNC import *\n",
    "import mylibs.WSDN_FUNC as func\n",
    "%cd -"
   ]
  },
  {
   "cell_type": "code",
   "execution_count": 17,
   "metadata": {},
   "outputs": [
    {
     "data": {
      "text/plain": [
       "<module 'mylibs.WSDN_FUNC' from 'd:\\\\jupyter-workdir\\\\notebook\\\\mylibs\\\\WSDN_FUNC.py'>"
      ]
     },
     "execution_count": 17,
     "metadata": {},
     "output_type": "execute_result"
    }
   ],
   "source": [
    "reload(func)"
   ]
  },
  {
   "cell_type": "code",
   "execution_count": null,
   "metadata": {},
   "outputs": [],
   "source": [
    "test_data = pd.DataFrame({\"msno\":[1,2,3,4,5,1,2,3],\"num1\":[4,5,6,7,8,1,2,3],\"num2\":[5,6,6,7,8,1,4,3], \"date\":[\"2017-1-1\",\"2017-2-1\",\"2017-3-1\",\"2017-4-1\",\"2017-5-1\",\"2017-6-1\",\"2017-7-1\",\"2017-8-1\"]})\n",
    "test_data[\"date\"] = pd.to_datetime(test_data[\"date\"], format='%Y-%m-%d')\n",
    "num_cols = [col for col in test_data.columns if col != \"msno\"]\n",
    "group_data = test_data.groupby(\"msno\")\n",
    "sum_data=test_data.groupby(\"msno\")[num_cols].sum().reset_index()\n",
    "mean_data=test_data.groupby(\"msno\")[num_cols].mean().reset_index(drop=True)\n",
    "concat_data=pd.concat([sum_data, mean_data], axis=1)\n",
    "concat_data"
   ]
  },
  {
   "cell_type": "code",
   "execution_count": null,
   "metadata": {},
   "outputs": [],
   "source": [
    "test_data.sort_values(by=['msno'], ascending=[True]).reset_index(drop=True).set_index(\"msno\").truncate(before=\"3\")"
   ]
  },
  {
   "cell_type": "code",
   "execution_count": null,
   "metadata": {
    "collapsed": true
   },
   "outputs": [],
   "source": [
    "def imin(data):\n",
    "    cumsum = 0\n",
    "    for i in range(len(data) - 1):\n",
    "        x = data.iloc[i]\n",
    "        y = data.iloc[i+1]\n",
    "        cumsum += 1 if x <= y else -1\n",
    "    return cumsum\n",
    "group_data[[\"num1\", \"num2\"]].agg(imin).reset_index()"
   ]
  },
  {
   "cell_type": "code",
   "execution_count": null,
   "metadata": {
    "collapsed": true
   },
   "outputs": [],
   "source": [
    "test_data.set_index(\"date\").truncate(before=\"2017-03-01\").reset_index().groupby(\"msno\")[num_cols].sum().reset_index()"
   ]
  },
  {
   "cell_type": "code",
   "execution_count": null,
   "metadata": {},
   "outputs": [],
   "source": [
    "test_data.msno.value_counts().reset_index().rename(columns={\"index\":\"msno\", \"msno\":\"log_count\"}).groupby(\"msno\")[\"log_count\"].sum().reset_index()"
   ]
  },
  {
   "cell_type": "code",
   "execution_count": null,
   "metadata": {},
   "outputs": [
    {
     "name": "stdout",
     "output_type": "stream",
     "text": [
      "(10000000, 9)\n",
      "... (661542, 2)\n",
      "(10000000, 9)\n",
      "... (585393, 2)\n",
      "(10000000, 9)\n",
      "... (649722, 2)\n",
      "(10000000, 9)\n",
      "... (662229, 2)\n",
      "(10000000, 9)\n",
      "... (613887, 2)\n",
      "(10000000, 9)\n",
      "... (580158, 2)\n",
      "(10000000, 9)\n",
      "... (634413, 2)\n",
      "(10000000, 9)\n",
      "... (662149, 2)\n",
      "(10000000, 9)\n",
      "... (563477, 2)\n",
      "(10000000, 9)\n",
      "... (595551, 2)\n",
      "(10000000, 9)\n",
      "... (662440, 2)\n",
      "(10000000, 9)\n",
      "... (661494, 2)\n",
      "(10000000, 9)\n",
      "... (546180, 2)\n",
      "(10000000, 9)\n",
      "... (596466, 2)\n",
      "(10000000, 9)\n",
      "... (663025, 2)\n",
      "(10000000, 9)\n",
      "... (631776, 2)\n",
      "(10000000, 9)\n",
      "... (596415, 2)\n",
      "(10000000, 9)\n",
      "... (640445, 2)\n",
      "(10000000, 9)\n",
      "... (662538, 2)\n",
      "(10000000, 9)\n",
      "... (600753, 2)\n",
      "(10000000, 9)\n",
      "... (593493, 2)\n",
      "(10000000, 9)\n",
      "... (661585, 2)\n",
      "(10000000, 9)\n",
      "... (628885, 2)\n",
      "(10000000, 9)\n",
      "... (578837, 2)\n",
      "(10000000, 9)\n",
      "... (626743, 2)\n",
      "(10000000, 9)\n",
      "... (662359, 2)\n",
      "(10000000, 9)\n",
      "... (624582, 2)\n",
      "(10000000, 9)\n",
      "... (579140, 2)\n",
      "(10000000, 9)\n",
      "... (648529, 2)\n",
      "(10000000, 9)\n",
      "... (661305, 2)\n",
      "(10000000, 9)\n",
      "... (607222, 2)\n",
      "(10000000, 9)\n",
      "... (633829, 2)\n",
      "(10000000, 9)\n",
      "... (661516, 2)\n",
      "(10000000, 9)\n",
      "... (629392, 2)\n",
      "(10000000, 9)\n",
      "... (601651, 2)\n",
      "(10000000, 9)\n",
      "... (602443, 2)\n",
      "(10000000, 9)\n",
      "... (661340, 2)\n",
      "(10000000, 9)\n",
      "... (627384, 2)\n",
      "(10000000, 9)\n",
      "... (550949, 2)\n",
      "(10000000, 9)\n",
      "... (1033135, 2)\n",
      "(10000000, 9)\n",
      "... (1047554, 2)\n",
      "(502905, 9)\n",
      "... (379571, 2)\n"
     ]
    }
   ],
   "source": [
    "# user_log num count after 3-1\n",
    "df_iter = pd.read_csv('user_logs.csv/user_logs.csv', low_memory=False, iterator=True, chunksize=10000000)\n",
    "last_user_logs_count = []\n",
    "i = 0 \n",
    "for df in df_iter:\n",
    "    if len(df)>0:\n",
    "        print(df.shape)\n",
    "        p = Pool(cpu_count())\n",
    "        df = p.map(func.user_log_num_count, np.array_split(df, cpu_count()))   \n",
    "        df = pd.concat(df, axis=0, ignore_index=True).reset_index(drop=True)\n",
    "        df = func.user_log_num_count2(df)\n",
    "        p.close(); p.join()\n",
    "        last_user_logs_count.append(df)\n",
    "        print('...', df.shape)\n",
    "        df = []\n",
    "        gc.collect()\n",
    "\n",
    "last_user_logs_count = pd.concat(last_user_logs_count, axis=0, ignore_index=True).reset_index(drop=True)\n",
    "last_user_logs_count = func.user_log_num_count2(last_user_logs_count)"
   ]
  },
  {
   "cell_type": "code",
   "execution_count": 20,
   "metadata": {},
   "outputs": [
    {
     "data": {
      "text/plain": [
       "msno            1103894\n",
       "log_count_1m    1103894\n",
       "dtype: int64"
      ]
     },
     "execution_count": 20,
     "metadata": {},
     "output_type": "execute_result"
    }
   ],
   "source": [
    "last_user_logs_count.count()"
   ]
  },
  {
   "cell_type": "code",
   "execution_count": 21,
   "metadata": {
    "collapsed": true
   },
   "outputs": [],
   "source": [
    "#last_user_logs_count.to_csv('extra_features3.csv', index=False) # after 2-1\n",
    "last_user_logs_count.to_csv('extra_features5.csv', index=False) # after 3-1"
   ]
  },
  {
   "cell_type": "code",
   "execution_count": null,
   "metadata": {
    "collapsed": true
   },
   "outputs": [],
   "source": [
    "# user_logs trend\n",
    "df_iter = pd.read_csv('user_logs.csv/user_logs.csv', low_memory=False, iterator=True, chunksize=10000000)\n",
    "last_user_logs_trend = []\n",
    "i = 0 \n",
    "for df in df_iter:\n",
    "    if len(df)>0:\n",
    "        print(df.shape)\n",
    "        p = Pool(cpu_count())\n",
    "        df = p.map(user_log_trend, np.array_split(df, cpu_count()))   \n",
    "        df = pd.concat(df, axis=0, ignore_index=True).reset_index(drop=True)\n",
    "        df = user_log_trend2(df)\n",
    "        p.close(); p.join()\n",
    "        last_user_logs_trend.append(df)\n",
    "        print('...', df.shape)\n",
    "        df = []\n",
    "        gc.collect()\n",
    "\n",
    "last_user_logs_trend = pd.concat(last_user_logs_trend, axis=0, ignore_index=True).reset_index(drop=True)\n",
    "last_user_logs_trend = user_log_trend2(last_user_logs_trend)"
   ]
  },
  {
   "cell_type": "code",
   "execution_count": null,
   "metadata": {
    "collapsed": true
   },
   "outputs": [],
   "source": [
    "last_user_logs_trend.head(3)"
   ]
  },
  {
   "cell_type": "code",
   "execution_count": null,
   "metadata": {
    "collapsed": true
   },
   "outputs": [],
   "source": [
    "last_user_logs_trend.to_csv('extra_features2.csv', index=False)"
   ]
  },
  {
   "cell_type": "code",
   "execution_count": null,
   "metadata": {},
   "outputs": [],
   "source": [
    "# user_logs sum & mean fater 2-1\n",
    "df_iter = pd.read_csv('user_logs.csv/user_logs.csv', low_memory=False, iterator=True, chunksize=10000000)\n",
    "last_user_logs = []\n",
    "i = 0 \n",
    "for df in df_iter:\n",
    "    if len(df)>0:\n",
    "        print(df.shape)\n",
    "        p = Pool(cpu_count())\n",
    "        df = p.map(user_log_count, np.array_split(df, cpu_count()))   \n",
    "        df = pd.concat(df, axis=0, ignore_index=True).reset_index(drop=True)\n",
    "        df = user_log_count2(df)\n",
    "        p.close(); p.join()\n",
    "        last_user_logs.append(df)\n",
    "        print('...', df.shape)\n",
    "        df = []\n",
    "        gc.collect()\n",
    "\n",
    "last_user_logs = pd.concat(last_user_logs, axis=0, ignore_index=True).reset_index(drop=True)\n",
    "last_user_logs = user_log_count2(last_user_logs)"
   ]
  },
  {
   "cell_type": "code",
   "execution_count": null,
   "metadata": {
    "collapsed": true
   },
   "outputs": [],
   "source": [
    "last_user_logs.head(3)"
   ]
  },
  {
   "cell_type": "code",
   "execution_count": null,
   "metadata": {
    "collapsed": true
   },
   "outputs": [],
   "source": [
    "last_user_logs.to_csv('extra_features.csv', index=False)"
   ]
  },
  {
   "cell_type": "code",
   "execution_count": 12,
   "metadata": {},
   "outputs": [
    {
     "name": "stdout",
     "output_type": "stream",
     "text": [
      "(10000000, 9)\n",
      "... (661542, 8)\n",
      "(10000000, 9)\n",
      "... (585393, 8)\n",
      "(10000000, 9)\n",
      "... (649722, 8)\n",
      "(10000000, 9)\n",
      "... (662229, 8)\n",
      "(10000000, 9)\n",
      "... (613887, 8)\n",
      "(10000000, 9)\n",
      "... (580158, 8)\n",
      "(10000000, 9)\n",
      "... (634413, 8)\n",
      "(10000000, 9)\n",
      "... (662149, 8)\n",
      "(10000000, 9)\n",
      "... (563477, 8)\n",
      "(10000000, 9)\n",
      "... (595551, 8)\n",
      "(10000000, 9)\n",
      "... (662440, 8)\n",
      "(10000000, 9)\n",
      "... (661494, 8)\n",
      "(10000000, 9)\n",
      "... (546180, 8)\n",
      "(10000000, 9)\n",
      "... (596466, 8)\n",
      "(10000000, 9)\n",
      "... (663025, 8)\n",
      "(10000000, 9)\n",
      "... (631776, 8)\n",
      "(10000000, 9)\n",
      "... (596415, 8)\n",
      "(10000000, 9)\n",
      "... (640445, 8)\n",
      "(10000000, 9)\n",
      "... (662538, 8)\n",
      "(10000000, 9)\n",
      "... (600753, 8)\n",
      "(10000000, 9)\n",
      "... (593493, 8)\n",
      "(10000000, 9)\n",
      "... (661585, 8)\n",
      "(10000000, 9)\n",
      "... (628885, 8)\n",
      "(10000000, 9)\n",
      "... (578837, 8)\n",
      "(10000000, 9)\n",
      "... (626743, 8)\n",
      "(10000000, 9)\n",
      "... (662359, 8)\n",
      "(10000000, 9)\n",
      "... (624582, 8)\n",
      "(10000000, 9)\n",
      "... (579140, 8)\n",
      "(10000000, 9)\n",
      "... (648529, 8)\n",
      "(10000000, 9)\n",
      "... (661305, 8)\n",
      "(10000000, 9)\n",
      "... (607222, 8)\n",
      "(10000000, 9)\n",
      "... (633829, 8)\n",
      "(10000000, 9)\n",
      "... (661516, 8)\n",
      "(10000000, 9)\n",
      "... (629392, 8)\n",
      "(10000000, 9)\n",
      "... (601651, 8)\n",
      "(10000000, 9)\n",
      "... (602443, 8)\n",
      "(10000000, 9)\n",
      "... (661340, 8)\n",
      "(10000000, 9)\n",
      "... (627384, 8)\n",
      "(10000000, 9)\n",
      "... (550949, 8)\n",
      "(10000000, 9)\n",
      "... (1033135, 8)\n",
      "(10000000, 9)\n",
      "... (1047554, 8)\n",
      "(502905, 9)\n",
      "... (379571, 8)\n"
     ]
    }
   ],
   "source": [
    "# user num sum after 3-1\n",
    "df_iter = pd.read_csv('user_logs.csv/user_logs_v2.csv', low_memory=False, iterator=True, chunksize=10000000)\n",
    "last_user_logs = []\n",
    "i = 0 \n",
    "for df in df_iter:\n",
    "    if len(df)>0:\n",
    "        print(df.shape)\n",
    "        p = Pool(cpu_count())\n",
    "        df = p.map(func.user_log_sum, np.array_split(df, cpu_count()))   \n",
    "        df = pd.concat(df, axis=0, ignore_index=True).reset_index(drop=True)\n",
    "        df = func.user_log_sum2(df)\n",
    "        p.close(); p.join()\n",
    "        last_user_logs.append(df)\n",
    "        print('...', df.shape)\n",
    "        df = []\n",
    "        gc.collect()\n",
    "\n",
    "last_user_logs = pd.concat(last_user_logs, axis=0, ignore_index=True).reset_index(drop=True)\n",
    "last_user_logs = func.user_log_sum2(last_user_logs)"
   ]
  },
  {
   "cell_type": "code",
   "execution_count": 15,
   "metadata": {},
   "outputs": [
    {
     "data": {
      "text/plain": [
       "msno                 1431802\n",
       "num_25_sum_1m        1431802\n",
       "num_50_sum_1m        1431802\n",
       "num_75_sum_1m        1431802\n",
       "num_985_sum_1m       1431802\n",
       "num_100_sum_1m       1431802\n",
       "num_unq_sum_1m       1431802\n",
       "total_secs_sum_1m    1431802\n",
       "dtype: int64"
      ]
     },
     "execution_count": 15,
     "metadata": {},
     "output_type": "execute_result"
    }
   ],
   "source": [
    "last_user_logs.count()"
   ]
  },
  {
   "cell_type": "code",
   "execution_count": 16,
   "metadata": {
    "collapsed": true
   },
   "outputs": [],
   "source": [
    "last_user_logs.to_csv('extra_features4.csv', index=False)"
   ]
  }
 ],
 "metadata": {
  "kernelspec": {
   "display_name": "Python 3",
   "language": "python",
   "name": "python3"
  },
  "language_info": {
   "codemirror_mode": {
    "name": "ipython",
    "version": 3
   },
   "file_extension": ".py",
   "mimetype": "text/x-python",
   "name": "python",
   "nbconvert_exporter": "python",
   "pygments_lexer": "ipython3",
   "version": "3.6.3"
  }
 },
 "nbformat": 4,
 "nbformat_minor": 2
}
