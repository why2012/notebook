{
 "cells": [
  {
   "cell_type": "code",
   "execution_count": null,
   "metadata": {
    "collapsed": true
   },
   "outputs": [],
   "source": [
    "import pandas as pd\n",
    "import numpy as np\n",
    "import cv2\n",
    "import importlib\n",
    "SEED = 1234\n",
    "np.random.seed(SEED) \n",
    "\n",
    "import keras\n",
    "from keras.models import Sequential\n",
    "from keras.layers import Dense, Dropout, Flatten, Activation, GlobalAveragePooling2D\n",
    "from keras.layers import Conv2D, MaxPooling2D\n",
    "from keras.callbacks import EarlyStopping, ModelCheckpoint, ReduceLROnPlateau, TensorBoard\n",
    "from keras.preprocessing.image import ImageDataGenerator\n",
    "from keras.layers.normalization import BatchNormalization\n",
    "from keras.optimizers import Adam\n",
    "from keras.utils import plot_model\n",
    "import mylibs.VggNet as VggNet\n",
    "import mylibs.ResNet as ResNet\n",
    "import mylibs.SENet as SENet\n",
    "importlib.reload(VggNet)\n",
    "importlib.reload(ResNet)\n",
    "importlib.reload(SENet)\n",
    "importlib.reload(keras)\n",
    "from keras.models import Model\n",
    "from keras.layers import Input, Average\n",
    "from keras import backend as K\n",
    "from keras.layers.merge import Concatenate\n",
    "from keras.engine import Layer\n",
    "import tensorflow as tf\n",
    "from sklearn.model_selection import train_test_split \n",
    "batch_size = 64\n",
    "\n",
    "from sklearn.model_selection import StratifiedKFold"
   ]
  },
  {
   "cell_type": "code",
   "execution_count": null,
   "metadata": {
    "collapsed": true
   },
   "outputs": [],
   "source": [
    "%cd E:\\kaggle\\iceberg"
   ]
  },
  {
   "cell_type": "code",
   "execution_count": null,
   "metadata": {
    "collapsed": true
   },
   "outputs": [],
   "source": [
    "def get_scaled_imgs(df):\n",
    "    imgs = []\n",
    "    for i, row in df.iterrows():\n",
    "        #make 75x75 image\n",
    "        band_1 = np.array(row['band_1']).reshape(75, 75)\n",
    "        band_2 = np.array(row['band_2']).reshape(75, 75)\n",
    "        band_3 = band_1 + band_2 # plus since log(x*y) = log(x) + log(y)\n",
    "        \n",
    "        # Rescale\n",
    "        a = (band_1 - band_1.mean()) / (band_1.max() - band_1.min())\n",
    "        b = (band_2 - band_2.mean()) / (band_2.max() - band_2.min())\n",
    "        c = (band_3 - band_3.mean()) / (band_3.max() - band_3.min())\n",
    "\n",
    "        imgs.append(np.dstack((a, b, c)))\n",
    "\n",
    "    return np.array(imgs)\n",
    "\n",
    "def get_more_images(imgs):\n",
    "    more_images = []\n",
    "    vert_flip_imgs = []\n",
    "    hori_flip_imgs = []\n",
    "    vh_flip_imgs = []\n",
    "      \n",
    "    for i in range(0,imgs.shape[0]):\n",
    "        vert_flip_imgs.append(cv2.flip(imgs[i], 1))\n",
    "        hori_flip_imgs.append(cv2.flip(imgs[i], 0))\n",
    "        vh_flip_imgs.append(cv2.flip(imgs[i], -1))\n",
    "      \n",
    "    v = np.array(vert_flip_imgs)\n",
    "    h = np.array(hori_flip_imgs)\n",
    "    vh = np.array(vh_flip_imgs)\n",
    "       \n",
    "    more_images = np.concatenate((imgs,v,h, vh))\n",
    "    \n",
    "    return more_images"
   ]
  },
  {
   "cell_type": "code",
   "execution_count": null,
   "metadata": {
    "collapsed": true
   },
   "outputs": [],
   "source": [
    "use_custom_augmentation = True\n",
    "if use_custom_augmentation:\n",
    "    df_train = pd.read_json('E:/kaggle/iceberg/train.json/data/processed/train.json')\n",
    "    df_test = pd.read_json('E:/kaggle/iceberg/test.json/data/processed/test.json')\n",
    "    Xtrain = get_scaled_imgs(df_train)\n",
    "    Xtest = get_scaled_imgs(df_test)\n",
    "    Ytrain = np.array(df_train['is_iceberg'])\n",
    "    \n",
    "#     df_train[\"inc_angle\"] = pd.to_numeric(df_train[\"inc_angle\"], errors='coerce')\n",
    "#     df_test[\"inc_angle\"] =  pd.to_numeric(df_test[\"inc_angle\"], errors='coerce')\n",
    "#     df_train['inc_angle']=df_train['inc_angle'].fillna(method='pad')\n",
    "#     df_test['inc_angle']=df_test['inc_angle'].fillna(method='pad')\n",
    "    df_train[\"inc_angle\"] = df_train[\"inc_angle\"].replace('na',0)\n",
    "    df_test[\"inc_angle\"] = df_test[\"inc_angle\"].replace('na',0)\n",
    "    idx_tr = np.where(df_train[\"inc_angle\"]>0)\n",
    "    Xtrain = Xtrain[idx_tr[0]]\n",
    "    Ytrain = Ytrain[idx_tr[0]]\n",
    "    \n",
    "    Xtrain_angle = np.array(df_train[\"inc_angle\"])[idx_tr[0]]\n",
    "    Xtest_angle = df_test['inc_angle']\n",
    "    \n",
    "    Xtrain = get_more_images(Xtrain) \n",
    "    Ytrain = np.concatenate((Ytrain,Ytrain,Ytrain, Ytrain))\n",
    "    \n",
    "    Xtrain_angle = np.concatenate((Xtrain_angle, Xtrain_angle, Xtrain_angle, Xtrain_angle))"
   ]
  },
  {
   "cell_type": "code",
   "execution_count": null,
   "metadata": {
    "collapsed": true
   },
   "outputs": [],
   "source": [
    "class ImgCrop(Layer):\n",
    "    def __init__(self, img_size=75, batch_size=batch_size, **kwargs):\n",
    "        super(ImgCrop, self).__init__(**kwargs)\n",
    "        self.img_size = img_size\n",
    "        self.batch_size = batch_size\n",
    "    \n",
    "    def build(self, input_shape):\n",
    "        super(ImgCrop, self).build(input_shape)\n",
    "    \n",
    "    def call(self, inputs):\n",
    "        input_imgs = inputs[0]\n",
    "        attention_tensor = inputs[1]\n",
    "        \n",
    "        attention_x = attention_tensor[:, 0]\n",
    "        attention_y = attention_tensor[:, 1]\n",
    "        attention_half_w = attention_tensor[:, 2]\n",
    "        top_left_x = tf.clip_by_value(attention_x - attention_half_w - 1e-3, 0, 1)\n",
    "        top_left_y = tf.clip_by_value(attention_y - attention_half_w - 1e-3, 0, 1)\n",
    "        bottom_right_x = tf.clip_by_value(attention_x + attention_half_w + 1e-3, 0, 1)\n",
    "        bottom_right_y = tf.clip_by_value(attention_y + attention_half_w + 1e-3, 0, 1)\n",
    "        \n",
    "        return tf.image.crop_and_resize(\n",
    "            input_imgs, \n",
    "            boxes=tf.stack([top_left_y, top_left_x, bottom_right_y, bottom_right_x], axis=1), \n",
    "            box_ind=list(range(self.batch_size)), \n",
    "            crop_size=[self.img_size, self.img_size])\n",
    "    \n",
    "    def compute_output_shape(self, input_shape):\n",
    "        return input_shape\n",
    "\n",
    "def getRecurrentAttentionEnd2End():\n",
    "    angle_input = Input(shape=[1], name=\"angle\")\n",
    "    angle_layer = Dense(1)(angle_input)\n",
    "    \n",
    "    final_layer = \"block4_pool_\"\n",
    "    \n",
    "    input_tensor = Input(shape=Xtrain.shape[1:])\n",
    "    baseModel_scale1 = VggNet.VGG16(weights='imagenet', index=1, input_tensor=input_tensor, include_top=False, input_shape=Xtrain.shape[1:], pooling = \"avg\")\n",
    "    cnnOutput_scale1 = baseModel_scale1.get_layer(final_layer + '1').output#baseModel_scale1.output\n",
    "    cnnOutput_scale1 = GlobalAveragePooling2D()(cnnOutput_scale1)\n",
    "    \n",
    "    attention_proposal_scale1 =  Dense(256, activation=\"relu\")(Flatten()(baseModel_scale1.get_layer(final_layer + '1').output))\n",
    "    attention_proposal_scale1 = Dense(3, activation=\"relu\")(attention_proposal_scale1)\n",
    "    attention_proposal_scale1 = ImgCrop()([input_tensor, attention_proposal_scale1])\n",
    "\n",
    "    baseModel_scale2 = VggNet.VGG16(weights='imagenet', index=2, input_tensor=attention_proposal_scale1, include_top=False, input_shape=Xtrain.shape[1:], pooling = \"avg\")\n",
    "    cnnOutput_scale2 = baseModel_scale2.get_layer(final_layer + '2').output#baseModel_scale2.output\n",
    "    cnnOutput_scale2 = GlobalAveragePooling2D()(cnnOutput_scale2)\n",
    "    \n",
    "    attention_proposal_scale2 =  Dense(256, activation=\"relu\")(Flatten()(baseModel_scale2.get_layer(final_layer + '2').output))\n",
    "    attention_proposal_scale2 = Dense(3, activation=\"relu\")(attention_proposal_scale2)\n",
    "    attention_proposal_scale2 = ImgCrop()([input_tensor, attention_proposal_scale2])\n",
    "\n",
    "    baseModel_scale3 = VggNet.VGG16(weights='imagenet', index=3, input_tensor=attention_proposal_scale2, include_top=False, input_shape=Xtrain.shape[1:], pooling = \"avg\")\n",
    "    cnnOutput_scale3 = baseModel_scale3.get_layer(final_layer + '3').output#baseModel_scale3.output\n",
    "    cnnOutput_scale3 = GlobalAveragePooling2D()(cnnOutput_scale3)\n",
    "    \n",
    "    \n",
    "#     predictions_scale1 = Dense(1, activation=\"sigmoid\")(Dropout(0.4)(Concatenate()([cnnOutput_scale1, angle_layer])))\n",
    "#     predictions_scale2 = Dense(1, activation=\"sigmoid\")(Dropout(0.4)(Concatenate()([cnnOutput_scale2, angle_layer])))\n",
    "#     predictions_scale3 = Dense(1, activation=\"sigmoid\")(Dropout(0.4)(Concatenate()([cnnOutput_scale3, angle_layer])))\n",
    "    predictions_scale1 = Dense(1, activation=\"sigmoid\")(Dropout(0.6)(cnnOutput_scale1))\n",
    "    predictions_scale2 = Dense(1, activation=\"sigmoid\")(Dropout(0.6)(cnnOutput_scale2))\n",
    "    predictions_scale3 = Dense(1, activation=\"sigmoid\")(Dropout(0.6)(cnnOutput_scale3))\n",
    "    \n",
    "    predictions = Concatenate()([predictions_scale1, predictions_scale2, predictions_scale3])\n",
    "    predictions = Dense(1, activation=\"sigmoid\")(predictions)\n",
    "    \n",
    "#     model = keras.models.Model(inputs=[input_tensor, angle_input], outputs=predictions)\n",
    "    model = keras.models.Model(inputs=input_tensor, outputs=predictions)\n",
    "    \n",
    "    optimizer = Adam(lr=1e-4)\n",
    "    model.compile(loss='binary_crossentropy', optimizer=optimizer, metrics=['accuracy'])\n",
    "    \n",
    "    return model"
   ]
  },
  {
   "cell_type": "code",
   "execution_count": null,
   "metadata": {
    "collapsed": true,
    "scrolled": true
   },
   "outputs": [],
   "source": [
    "model = getRecurrentAttentionEnd2End()\n",
    "model.summary()\n",
    "plot_model(model, to_file=\"RANet.png\")"
   ]
  },
  {
   "cell_type": "code",
   "execution_count": null,
   "metadata": {
    "collapsed": true
   },
   "outputs": [],
   "source": [
    "Xtrain_cv, Xtrain_val, Ytrain_cv, Ytrain_val, Xtrain_angle_cv, Xtrain_angle_val = train_test_split(Xtrain, Ytrain, Xtrain_angle, test_size=0.3, random_state=SEED)\n",
    "train_split_end = Xtrain_cv.shape[0] % batch_size\n",
    "val_split_end = Xtrain_val.shape[0] % batch_size\n",
    "Xtrain_cv = Xtrain_cv[:-train_split_end]\n",
    "Xtrain_angle_cv = Xtrain_angle_cv[:-train_split_end]\n",
    "Ytrain_cv = Ytrain_cv[:-train_split_end]\n",
    "Xtrain_val = Xtrain_val[:-val_split_end]\n",
    "Xtrain_angle_val = Xtrain_angle_val[:-val_split_end]\n",
    "Ytrain_val = Ytrain_val[:-val_split_end]\n",
    "mcp_save = ModelCheckpoint(\"ranet.hdf5\", save_best_only=True, monitor='val_loss', mode='min')\n",
    "reduce_lr_loss = ReduceLROnPlateau(monitor='val_loss', factor=0.3, patience=20, verbose=1, epsilon=1e-4, mode='min')"
   ]
  },
  {
   "cell_type": "code",
   "execution_count": null,
   "metadata": {
    "collapsed": true
   },
   "outputs": [],
   "source": [
    "tensorboard = TensorBoard(log_dir='./logs')"
   ]
  },
  {
   "cell_type": "code",
   "execution_count": null,
   "metadata": {
    "collapsed": true,
    "scrolled": true
   },
   "outputs": [],
   "source": [
    "# model.fit([Xtrain_cv, Xtrain_angle_cv], Ytrain_cv, epochs=2000, batch_size=batch_size, shuffle=True, verbose=1, callbacks=[mcp_save, TensorBoard(log_dir='./logs')], validation_data=([Xtrain_val, Xtrain_angle_val], Ytrain_val))\n",
    "model.fit(Xtrain_cv, Ytrain_cv, epochs=2000, batch_size=batch_size, shuffle=True, verbose=1, callbacks=[mcp_save, reduce_lr_loss, tensorboard], validation_data=(Xtrain_val, Ytrain_val))"
   ]
  },
  {
   "cell_type": "code",
   "execution_count": null,
   "metadata": {
    "collapsed": true
   },
   "outputs": [],
   "source": [
    "tensorboard.writer.close()"
   ]
  },
  {
   "cell_type": "code",
   "execution_count": null,
   "metadata": {
    "collapsed": true
   },
   "outputs": [],
   "source": [
    "model.load_weights(filepath = \"ranet.hdf5\")   "
   ]
  },
  {
   "cell_type": "code",
   "execution_count": null,
   "metadata": {
    "collapsed": true
   },
   "outputs": [],
   "source": [
    " total_split_end = Xtrain.shape[0] % batch_size\n",
    "# score = model.evaluate([Xtrain[:-total_split_end], Xtrain_angle[:-total_split_end]], Ytrain[:-total_split_end], batch_size=batch_size, verbose=1)\n",
    "score = model.evaluate(Xtrain[:-total_split_end], Ytrain[:-total_split_end], batch_size=batch_size, verbose=1)\n",
    "print('Train score:', score[0])\n",
    "print('Train accuracy:', score[1])"
   ]
  },
  {
   "cell_type": "code",
   "execution_count": null,
   "metadata": {
    "collapsed": true
   },
   "outputs": [],
   "source": [
    "test_tail = Xtest.shape[0] % batch_size\n",
    "Xtest_append_count = batch_size - test_tail\n",
    "Xtest_append = Xtest[:Xtest_append_count]\n",
    "Xtest_compatible = np.concatenate([Xtest, Xtest_append])\n",
    "Xtest_angle_append = Xtest_angle[:Xtest_append_count]\n",
    "Xtest_angle_compatible = np.concatenate([Xtest_angle, Xtest_angle_append])\n",
    "\n",
    "y_test_pred_log = 0\n",
    "# y_test_pred_log += model.predict([Xtest_compatible, Xtest_angle_compatible], batch_size=batch_size)\n",
    "y_test_pred_log += model.predict(Xtest_compatible, batch_size=batch_size)"
   ]
  },
  {
   "cell_type": "code",
   "execution_count": null,
   "metadata": {
    "collapsed": true
   },
   "outputs": [],
   "source": [
    "submission = pd.DataFrame({'id': df_test[\"id\"], 'is_iceberg': y_test_pred_log[:-Xtest_append_count].reshape(df_test.shape[0])})\n",
    "print(submission.head(10))\n",
    "print(submission.shape[0], Xtest.shape[0])\n",
    "\n",
    "submission.to_csv('submission-cnn-custom-ranet.csv', index=False)"
   ]
  }
 ],
 "metadata": {
  "kernelspec": {
   "display_name": "Python 3",
   "language": "python",
   "name": "python3"
  },
  "language_info": {
   "codemirror_mode": {
    "name": "ipython",
    "version": 3
   },
   "file_extension": ".py",
   "mimetype": "text/x-python",
   "name": "python",
   "nbconvert_exporter": "python",
   "pygments_lexer": "ipython3",
   "version": "3.6.3"
  }
 },
 "nbformat": 4,
 "nbformat_minor": 2
}
